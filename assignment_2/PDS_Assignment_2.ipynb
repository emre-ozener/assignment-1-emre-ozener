{
 "cells": [
  {
   "cell_type": "markdown",
   "metadata": {},
   "source": [
    "Exercise 1"
   ]
  },
  {
   "cell_type": "code",
   "execution_count": 4,
   "metadata": {},
   "outputs": [
    {
     "name": "stdout",
     "output_type": "stream",
     "text": [
      "1\n",
      "2\n",
      "Fizz\n",
      "4\n",
      "Buzz\n",
      "Fizz\n",
      "7\n",
      "8\n",
      "Fizz\n",
      "Buzz\n",
      "11\n",
      "Fizz\n",
      "13\n",
      "14\n",
      "FizzBuzz\n",
      "16\n",
      "17\n",
      "Fizz\n",
      "19\n",
      "Buzz\n"
     ]
    }
   ],
   "source": [
    "def fizzbuzz(n):\n",
    "    for i in n:\n",
    "        if i % 3 == 0 and i%5 == 0:\n",
    "            print(\"FizzBuzz\")\n",
    "        elif i % 3 == 0:\n",
    "            print(\"Fizz\")\n",
    "        elif i % 5 == 0:\n",
    "            print(\"Buzz\")\n",
    "        else: \n",
    "            print(i)\n",
    "\n",
    "fizzbuzz(range(1,21))"
   ]
  },
  {
   "cell_type": "markdown",
   "metadata": {},
   "source": [
    "Exercise 2"
   ]
  },
  {
   "cell_type": "code",
   "execution_count": 5,
   "metadata": {},
   "outputs": [
    {
     "name": "stdout",
     "output_type": "stream",
     "text": [
      "[1, 5, 3]\n"
     ]
    }
   ],
   "source": [
    "mix_list = [\"Hello\" , 1.2 , 1 , \"Python\" , 88.4 , 5 , 3]\n",
    "\n",
    "int_list = [ item for item in mix_list if type(item) == int]\n",
    "print(int_list)"
   ]
  },
  {
   "cell_type": "markdown",
   "metadata": {},
   "source": [
    "Exercise 3: "
   ]
  },
  {
   "cell_type": "code",
   "execution_count": 1,
   "metadata": {},
   "outputs": [],
   "source": [
    "todo = []\n",
    "\n",
    "def add_task(task):\n",
    "    todo.append(task)\n",
    "    return todo\n",
    "\n",
    "def show_tasks(todo):\n",
    "    if todo:\n",
    "        for task_item in todo:\n",
    "            print(task_item)\n",
    "    else: \n",
    "        print(\"To do list is currently empty.\")\n",
    "\n"
   ]
  },
  {
   "cell_type": "code",
   "execution_count": 3,
   "metadata": {},
   "outputs": [
    {
     "name": "stdout",
     "output_type": "stream",
     "text": [
      "Do the chores\n",
      "Finish Python Assignment\n"
     ]
    }
   ],
   "source": [
    "add_task(\"Do the chores\")\n",
    "add_task(\"Finish Python Assignment\")\n",
    "\n",
    "show_tasks(todo)\n"
   ]
  },
  {
   "cell_type": "markdown",
   "metadata": {},
   "source": [
    "Exercise 4"
   ]
  },
  {
   "cell_type": "code",
   "execution_count": 5,
   "metadata": {},
   "outputs": [
    {
     "name": "stdout",
     "output_type": "stream",
     "text": [
      "71.6\n",
      "114.8\n",
      "123.8\n",
      "168.8\n"
     ]
    }
   ],
   "source": [
    "def celsius_to_fahreinheit(celsius):\n",
    "    print(((9/5) * celsius) + 32)\n",
    "\n",
    "celsius_to_fahreinheit(22)\n",
    "celsius_to_fahreinheit(46)\n",
    "celsius_to_fahreinheit(51)\n",
    "celsius_to_fahreinheit(76)"
   ]
  },
  {
   "cell_type": "code",
   "execution_count": null,
   "metadata": {},
   "outputs": [],
   "source": []
  }
 ],
 "metadata": {
  "kernelspec": {
   "display_name": ".venv",
   "language": "python",
   "name": "python3"
  },
  "language_info": {
   "codemirror_mode": {
    "name": "ipython",
    "version": 3
   },
   "file_extension": ".py",
   "mimetype": "text/x-python",
   "name": "python",
   "nbconvert_exporter": "python",
   "pygments_lexer": "ipython3",
   "version": "3.10.15"
  }
 },
 "nbformat": 4,
 "nbformat_minor": 2
}
